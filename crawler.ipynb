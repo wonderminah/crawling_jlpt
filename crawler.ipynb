{
 "cells": [
  {
   "cell_type": "code",
   "execution_count": 98,
   "metadata": {},
   "outputs": [
    {
     "name": "stdout",
     "output_type": "stream",
     "text": [
      "37\n",
      "37\n",
      "37\n"
     ]
    }
   ],
   "source": [
    "import requests\n",
    "from bs4 import BeautifulSoup\n",
    "\n",
    "# 1) reqeusts 라이브러리를 활용한 HTML 페이지 요청 \n",
    "# 1-1) res 객체에 HTML 데이터가 저장되고, res.content로 데이터를 추출할 수 있음\n",
    "res = requests.get('https://ja.dict.naver.com/jlpt/level-1/parts-1/p2.nhn')\n",
    "\n",
    "# print(res.content)\n",
    "# 2) HTML 페이지 파싱 BeautifulSoup(HTML데이터, 파싱방법)\n",
    "# 2-1) BeautifulSoup 파싱방법\n",
    "soup = BeautifulSoup(res.content, 'html.parser')\n",
    "\n",
    "# 3) 필요한 데이터 검색\n",
    "# lst = soup.find('ul', class_='lst')\n",
    "\n",
    "hiragana = soup.select('ul.lst > li > span.jp > a', None, 37)\n",
    "kanji = soup.select('ul.lst > li > span.jp > span')\n",
    "part = soup.select('ul.lst > li > span.bot_txt > span.pin', None, 37)\n",
    "\n",
    "n = 0\n",
    "for one in hiragana:\n",
    "    hiragana[n] = one.text\n",
    "    n = n + 1\n",
    "    \n",
    "n = 0\n",
    "for one in kanji:\n",
    "    kanji[n] = one.text\n",
    "    n = n + 1\n",
    "    \n",
    "n = 0\n",
    "for one in part:\n",
    "    part[n] = one.text\n",
    "    n = n + 1\n",
    "\n",
    "# 4) 필요한 데이터 추출\n",
    "# print(lst.get_text())\n",
    "print(len(hiragana))\n",
    "print(len(kanji))\n",
    "print(len(part))\n",
    "# print(meaning)\n",
    "\n",
    "from pandas import DataFrame\n",
    "df = DataFrame({'hiragana': hiragana, 'kanji': kanji, 'part': part})\n",
    "df.to_csv('jlpt.csv')"
   ]
  },
  {
   "cell_type": "code",
   "execution_count": null,
   "metadata": {},
   "outputs": [],
   "source": []
  },
  {
   "cell_type": "code",
   "execution_count": null,
   "metadata": {},
   "outputs": [],
   "source": []
  }
 ],
 "metadata": {
  "kernelspec": {
   "display_name": "Python 3",
   "language": "python",
   "name": "python3"
  },
  "language_info": {
   "codemirror_mode": {
    "name": "ipython",
    "version": 3
   },
   "file_extension": ".py",
   "mimetype": "text/x-python",
   "name": "python",
   "nbconvert_exporter": "python",
   "pygments_lexer": "ipython3",
   "version": "3.7.0"
  }
 },
 "nbformat": 4,
 "nbformat_minor": 2
}
